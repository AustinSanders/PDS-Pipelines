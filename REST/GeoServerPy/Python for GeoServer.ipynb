{
 "cells": [
  {
   "cell_type": "code",
   "execution_count": 74,
   "metadata": {},
   "outputs": [
    {
     "name": "stdout",
     "output_type": "stream",
     "text": [
      "Populating the interactive namespace from numpy and matplotlib\n",
      "<Response [200]>\n"
     ]
    },
    {
     "data": {
      "image/png": "[encoded data removed]",
      "text/plain": [
       "<Figure size 432x288 with 1 Axes>"
      ]
     },
     "metadata": {
      "needs_background": "light"
     },
     "output_type": "display_data"
    },
    {
     "data": {
      "text/plain": [
       "<Response [200]>"
      ]
     },
     "execution_count": 74,
     "metadata": {},
     "output_type": "execute_result"
    }
   ],
   "source": [
    "import requests\n",
    "%pylab inline\n",
    "import matplotlib.pyplot as plt\n",
    "import matplotlib.image as mpimg\n",
    "from PIL import Image\n",
    "from io import BytesIO\n",
    "\n",
    "def create_workspace(name):\n",
    "    headers = {'content-type': 'text/xml'}\n",
    "    r1 = requests.post(\"http://localhost:8080/geoserver/rest/workspaces\", \n",
    "    auth=('admin', 'geoserver'), \n",
    "    data='<workspace><name>' + name + '</name></workspace>',\n",
    "    headers=headers)\n",
    "    return r1\n",
    "#     requests.get(\"curl -v -u admin:geoserver -XPOST -H 'Content-type: text/xml' -d '<workspace><name>\" + name + \"</name></workspace>' http://localhost:8080/geoserver/rest/workspaces\")\n",
    "\n",
    "# def create_db_conn(config_xml):\n",
    "#     headers = {'content-type': 'text/xml'}\n",
    "#     files = {'config.xml': open(config_xml, 'r')}\n",
    "#     r1 = requests.post(\"http://localhost:8080/geoserver/rest/workspaces/upc/datastores\", \n",
    "#     auth=('admin', 'geoserver'), \n",
    "#     files=files,\n",
    "#     headers=headers)\n",
    "#     return r1\n",
    "    #requests.get(\"curl -v -u admin:geoserver -XPOST -T\" + config.xml + \"-H 'Content-type: text/xml' http://localhost:8080/geoserver/rest/workspaces/upc/datastores\")\n",
    "\n",
    "# def access_db_info(workname, dbname):\n",
    "#     headers = {'content-type': 'text/xml'}\n",
    "#     r1 = requests.get(\"http://localhost:8080/geoserver/rest/workspaces/\" + workname + \"/datastores/\" + dbname + '.xml', \n",
    "#     auth=('admin', 'geoserver'), \n",
    "#     headers=headers)\n",
    "#     return r1\n",
    "\n",
    "def publish_table(tablename):\n",
    "    headers = {'content-type': 'text/xml'}\n",
    "    r1 = requests.post(\"http://localhost:8080/geoserver/rest/workspaces/cite/datastores/upcdev/featuretypes\", \n",
    "    auth=('admin', 'geoserver'), \n",
    "    data='<featureType><name>' + tablename + '</name></featureType>',\n",
    "    headers=headers)\n",
    "    return r1\n",
    "\n",
    "def create_new_sql_view(layer_name, sql_command=\"select * FROM datafiles_w_footprints WHERE instrumentid=21\"):\n",
    "    headers = {'content-type': 'text/xml'}\n",
    "    data =  \"<featureType><name>\" + layer_name + \"</name>\" + \\\n",
    "            '''<nativeName>''' + layer_name + '''</nativeName>\n",
    "            <namespace>\n",
    "            <name>cite</name>\n",
    "            <atom:link xmlns:atom='http://www.w3.org/2005/Atom' rel='alternate' href='http://arizona-umh.cs.umn.edu:8080/geoserver/rest/namespaces/cite.xml' type='application/xml'/> \\\n",
    "            </namespace>\n",
    "            <title>''' + layer_name + '''</title>\n",
    "            <keywords>\n",
    "            <string>features</string>\n",
    "            <string>''' + layer_name + '''</string>\n",
    "            </keywords>\n",
    "            <projectionPolicy>FORCE_DECLARED</projectionPolicy>\n",
    "            <enabled>true</enabled>\n",
    "            <metadata>\n",
    "            <entry key='JDBC_VIRTUAL_TABLE'>\n",
    "            <virtualTable>\n",
    "            <name>''' + layer_name + '''</name>\n",
    "            <sql>''' + sql_command + '''</sql>\n",
    "            <escapeSql>true</escapeSql>\n",
    "            <geometry>\n",
    "            <name>footprint</name>\n",
    "            <type>Geometry</type>\n",
    "            <srid>-1</srid>\n",
    "            </geometry>\n",
    "            <geometry>\n",
    "            <name>centroid</name>\n",
    "            <type>Geometry</type>\n",
    "            <srid>-1</srid>\n",
    "            </geometry>\n",
    "            </virtualTable>\n",
    "            </entry>\n",
    "            <entry key='cachingEnabled'>false</entry>\n",
    "            </metadata>\n",
    "            <store class='dataStore'>\n",
    "            <name>cite:upcdev</name>\n",
    "            <atom:link xmlns:atom='http://www.w3.org/2005/Atom' rel='alternate' href='http://arizona-umh.cs.umn.edu:8080/geoserver/rest/workspaces/cite/datastores/AlwaysShen.xml' type='application/xml'/> \\\n",
    "            </store>\n",
    "            </featureType>'''\n",
    "\n",
    "    r1 = requests.post(\"http://localhost:8080/geoserver/rest/workspaces/cite/datastores/upcdev/featuretypes\", \n",
    "    auth=('admin', 'geoserver'),\n",
    "    headers=headers, data=data)\n",
    "    return r1\n",
    "\n",
    "def get_image(layer_name):\n",
    "    r1 = requests.get(\"http://localhost:8080/geoserver/wms/reflect?layers=cite:\" + layer_name)\n",
    "    print(r1)\n",
    "    im = Image.open(BytesIO(r1.content))\n",
    "    plt.imshow(im)\n",
    "    plt.show()\n",
    "    return r1\n",
    "\n",
    "# dbcreate = create_workspace(\"upc\")\n",
    "# x = publish_table(\"datafiles_w_footprints\")\n",
    "# print(x)\n",
    "create_new_sql_view('voyager4')\n",
    "get_image('voyager4')\n",
    "\n",
    "# curl -v -u admin:geoserver -XGET http://localhost:8080/geoserver/rest/workspaces/upc/datastores/upcdev.xml\n",
    "\n",
    "# curl -v -u admin:geoserver -XPOST -H \"Content-type: text/xml\" -d \"<featureType><name>datafiles_w_footprints</name></featureType>\" http://localhost:8080/geoserver/rest/workspaces/upc/datastores/upcdev/featuretypes\n",
    "\n",
    "# wget http://localhost:8080/geoserver/wms/reflect?layers=upc:datafiles_w_footprints"
   ]
  },
  {
   "cell_type": "code",
   "execution_count": 51,
   "metadata": {},
   "outputs": [],
   "source": [
    "\n",
    "\n"
   ]
  },
  {
   "cell_type": "code",
   "execution_count": null,
   "metadata": {},
   "outputs": [],
   "source": []
  }
 ],
 "metadata": {
  "kernelspec": {
   "display_name": "Python 3",
   "language": "python",
   "name": "python3"
  },
  "language_info": {
   "codemirror_mode": {
    "name": "ipython",
    "version": 3
   },
   "file_extension": ".py",
   "mimetype": "text/x-python",
   "name": "python",
   "nbconvert_exporter": "python",
   "pygments_lexer": "ipython3",
   "version": "3.7.3"
  }
 },
 "nbformat": 4,
 "nbformat_minor": 2
}
