{
 "cells": [
  {
   "cell_type": "code",
   "execution_count": 17,
   "metadata": {
    "scrolled": false
   },
   "outputs": [],
   "source": [
    "import os\n",
    "import pvl"
   ]
  },
  {
   "cell_type": "code",
   "execution_count": 100,
   "metadata": {
    "scrolled": false
   },
   "outputs": [
    {
     "name": "stdout",
     "output_type": "stream",
     "text": [
      "{'VOLUME 1: HIRISE IMAGES': 2, 'VOLUME MROX_2977: MRO CTX EDR ARCHIVE': 1}\n"
     ]
    }
   ],
   "source": [
    "filePath = glob.glob('Folder_Containing_Voldesc_Files/*')\n",
    "length = len(filePath)\n",
    "vol_val = {}\n",
    "\n",
    "for n in range(length):\n",
    "    voldesc = load_pvl(filePath[n])\n",
    "    dataset_id = voldesc['VOLUME']['DATA_SET_ID']\n",
    "    volume_name = voldesc['VOLUME']['VOLUME_NAME']\n",
    "    \n",
    "    if isinstance(dataset_id, (list, tuple, set)):\n",
    "        vol_val[volume_name] = len(dataset_id)\n",
    "    else:\n",
    "        vol_val[volume_name]= 1\n",
    "print(a)\n",
    "\n",
    "def load_pvl(pvl_file_path):\n",
    "    with open(pvl_file_path, 'r') as f:\n",
    "        f.readline()\n",
    "        data = f.read()\n",
    "    voldesc = pvl.loads(data)\n",
    "    return voldesc"
   ]
  },
  {
   "cell_type": "code",
   "execution_count": null,
   "metadata": {},
   "outputs": [],
   "source": []
  }
 ],
 "metadata": {
  "kernelspec": {
   "display_name": "Python 3",
   "language": "python",
   "name": "python3"
  },
  "language_info": {
   "codemirror_mode": {
    "name": "ipython",
    "version": 3
   },
   "file_extension": ".py",
   "mimetype": "text/x-python",
   "name": "python",
   "nbconvert_exporter": "python",
   "pygments_lexer": "ipython3",
   "version": "3.6.4"
  }
 },
 "nbformat": 4,
 "nbformat_minor": 2
}
